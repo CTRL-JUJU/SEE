{
 "cells": [
  {
   "cell_type": "markdown",
   "metadata": {},
   "source": [
    "# **Assignment 2 For Clustering Data Analytics**\n",
    "<hr>"
   ]
  },
  {
   "cell_type": "markdown",
   "metadata": {},
   "source": [
    "**Submitted by:** Jude M. Ando & Niles Vincent Gabrielle Rondez <br>\n",
    "**Course & Year:** BSCS - 2 <br>\n",
    "**Schedule:** M W 10:30 AM - 12:00 PM <br>\n",
    "<hr>"
   ]
  },
  {
   "cell_type": "markdown",
   "metadata": {},
   "source": [
    "## Introduction?"
   ]
  },
  {
   "cell_type": "markdown",
   "metadata": {},
   "source": [
    "## Converted SEE.R Codes into Python Codes"
   ]
  },
  {
   "cell_type": "code",
   "execution_count": 1,
   "metadata": {},
   "outputs": [],
   "source": [
    "import pandas as pd\n",
    "import numpy as np\n",
    "import matplotlib.pyplot as plt\n",
    "import seaborn as sns\n",
    "from scipy.stats import gaussian_kde\n",
    "from sklearn.cluster import KMeans\n",
    "from sklearn.preprocessing import StandardScaler\n",
    "from datetime import datetime\n",
    "\n",
    "def preprocess_data(df, atc_code):\n",
    "    df = df[df['ATC'] == atc_code].copy()\n",
    "    df = df.sort_values(by=['pnr', 'eksd'])\n",
    "    df['prev_eksd'] = df.groupby('pnr')['eksd'].shift(1)\n",
    "    df = df.dropna()\n",
    "    df['event_interval'] = (df['eksd'] - df['prev_eksd']).dt.days\n",
    "    return df\n",
    "\n",
    "def empirical_cdf(df):\n",
    "    ecdf = np.sort(df['event_interval'].values)\n",
    "    y_vals = np.arange(1, len(ecdf) + 1) / len(ecdf)\n",
    "    return ecdf, y_vals\n",
    "\n",
    "def plot_ecdf(df):\n",
    "    ecdf, y_vals = empirical_cdf(df)\n",
    "    plt.figure(figsize=(10, 5))\n",
    "    plt.plot(ecdf, y_vals, marker='.', linestyle='none', label='ECDF')\n",
    "    plt.xlabel('Event Interval (Days)')\n",
    "    plt.ylabel('ECDF')\n",
    "    plt.title('Empirical CDF of Event Intervals')\n",
    "    plt.legend()\n",
    "    plt.show()\n",
    "\n",
    "def determine_clusters(df):\n",
    "    data = np.log(df[['event_interval']].values)\n",
    "    data = StandardScaler().fit_transform(data)\n",
    "    inertia = []\n",
    "    for k in range(1, 10):\n",
    "        kmeans = KMeans(n_clusters=k, random_state=42)\n",
    "        kmeans.fit(data)\n",
    "        inertia.append(kmeans.inertia_)\n",
    "    \n",
    "    optimal_k = np.argmax(np.diff(inertia)) + 2  # Heuristic for optimal clusters\n",
    "    return optimal_k\n",
    "\n",
    "def kmeans_clustering(df, n_clusters):\n",
    "    data = np.log(df[['event_interval']].values)\n",
    "    data = StandardScaler().fit_transform(data)\n",
    "    kmeans = KMeans(n_clusters=n_clusters, random_state=42)\n",
    "    df['cluster'] = kmeans.fit_predict(data)\n",
    "    return df\n",
    "\n",
    "def visualize_clusters(df):\n",
    "    sns.boxplot(x='cluster', y='event_interval', data=df)\n",
    "    plt.title('Clustering of Event Intervals')\n",
    "    plt.show()\n",
    "\n",
    "def sessa_empirical_estimator(df, atc_code):\n",
    "    df = preprocess_data(df, atc_code)\n",
    "    plot_ecdf(df)\n",
    "    n_clusters = determine_clusters(df)\n",
    "    df = kmeans_clustering(df, n_clusters)\n",
    "    visualize_clusters(df)\n",
    "    return df\n",
    "# Example usage (data needs to be loaded first)\n",
    "# df = pd.read_csv(\"your_data.csv\")\n",
    "# df['eksd'] = pd.to_datetime(df['eksd'])\n",
    "# result = sessa_empirical_estimator(df, \"medA\")\n"
   ]
  },
  {
   "cell_type": "markdown",
   "metadata": {},
   "source": [
    "## Performing Sessa Empircal Estimator on *Data Set Name*"
   ]
  },
  {
   "cell_type": "code",
   "execution_count": 2,
   "metadata": {},
   "outputs": [],
   "source": [
    "# I am code"
   ]
  },
  {
   "cell_type": "markdown",
   "metadata": {},
   "source": [
    "### Insights"
   ]
  },
  {
   "cell_type": "markdown",
   "metadata": {},
   "source": [
    "## Substituting Sessa Empircal Estimator with *Chosen Different Clustering Algorithm* on *Chosen Data Set*"
   ]
  },
  {
   "cell_type": "code",
   "execution_count": null,
   "metadata": {},
   "outputs": [],
   "source": [
    "# I am code"
   ]
  },
  {
   "cell_type": "markdown",
   "metadata": {},
   "source": [
    "### Insights"
   ]
  },
  {
   "cell_type": "markdown",
   "metadata": {},
   "source": [
    "## Comparison Between Sessa Empirical Estimator using K-Means, and Sessa Empirical Estimator using *the clustering algorithm of your choice*"
   ]
  },
  {
   "cell_type": "markdown",
   "metadata": {},
   "source": [
    "text maybe?"
   ]
  }
 ],
 "metadata": {
  "kernelspec": {
   "display_name": "Python 3",
   "language": "python",
   "name": "python3"
  },
  "language_info": {
   "codemirror_mode": {
    "name": "ipython",
    "version": 3
   },
   "file_extension": ".py",
   "mimetype": "text/x-python",
   "name": "python",
   "nbconvert_exporter": "python",
   "pygments_lexer": "ipython3",
   "version": "3.12.6"
  }
 },
 "nbformat": 4,
 "nbformat_minor": 2
}
