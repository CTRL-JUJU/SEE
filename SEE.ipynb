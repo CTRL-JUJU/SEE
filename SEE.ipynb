{
 "cells": [
  {
   "cell_type": "markdown",
   "metadata": {},
   "source": [
    "# **Assignment 2 For Clustering Data Analytics**\n",
    "<hr>"
   ]
  },
  {
   "cell_type": "markdown",
   "metadata": {},
   "source": [
    "**Submitted by:** Jude M. Ando & Niles Vincent Gabrielle Rondez <br>\n",
    "**Course & Year:** BSCS - 2 <br>\n",
    "**Schedule:** M W 10:30 AM - 12:00 PM <br>\n",
    "<hr>"
   ]
  },
  {
   "cell_type": "markdown",
   "metadata": {},
   "source": [
    "## Introduction\n",
    "This notebook implements the Sessa Empirical Estimator for medication adherence analysis. It uses K-Means and DBSCAN clustering algorithms to analyze simulated patient data."
   ]
  },
  {
   "cell_type": "markdown",
   "metadata": {},
   "source": [
    "## Convert SEE.R Codes into Python Codes"
   ]
  },
  {
   "cell_type": "code",
   "execution_count": 1,
   "metadata": {},
   "outputs": [],
   "source": [
    "import pandas as pd\n",
    "import numpy as np\n",
    "import matplotlib.pyplot as plt\n",
    "import seaborn as sns\n",
    "from scipy.stats import gaussian_kde\n",
    "from sklearn.cluster import KMeans\n",
    "from sklearn.preprocessing import StandardScaler\n",
    "from datetime import datetime\n",
    "\n",
    "def preprocess_data(df, atc_code):\n",
    "    df = df[df['ATC'] == atc_code].copy()\n",
    "    df = df.sort_values(by=['pnr', 'eksd'])\n",
    "    df['prev_eksd'] = df.groupby('pnr')['eksd'].shift(1)\n",
    "    df = df.dropna()\n",
    "    df['event_interval'] = (df['eksd'] - df['prev_eksd']).dt.days\n",
    "    return df\n",
    "\n",
    "def empirical_cdf(df):\n",
    "    ecdf = np.sort(df['event_interval'].values)\n",
    "    y_vals = np.arange(1, len(ecdf) + 1) / len(ecdf)\n",
    "    return ecdf, y_vals\n",
    "\n",
    "def plot_ecdf(df):\n",
    "    ecdf, y_vals = empirical_cdf(df)\n",
    "    plt.figure(figsize=(10, 5))\n",
    "    plt.plot(ecdf, y_vals, marker='.', linestyle='none', label='ECDF')\n",
    "    plt.xlabel('Event Interval (Days)')\n",
    "    plt.ylabel('ECDF')\n",
    "    plt.title('Empirical CDF of Event Intervals')\n",
    "    plt.legend()\n",
    "    plt.show()\n",
    "\n",
    "def determine_clusters(df):\n",
    "    data = np.log(df[['event_interval']].values)\n",
    "    data = StandardScaler().fit_transform(data)\n",
    "    inertia = []\n",
    "    for k in range(1, 10):\n",
    "        kmeans = KMeans(n_clusters=k, random_state=42)\n",
    "        kmeans.fit(data)\n",
    "        inertia.append(kmeans.inertia_)\n",
    "    \n",
    "    optimal_k = np.argmax(np.diff(inertia)) + 2  # Heuristic for optimal clusters\n",
    "    return optimal_k\n",
    "\n",
    "def kmeans_clustering(df, n_clusters):\n",
    "    data = np.log(df[['event_interval']].values)\n",
    "    data = StandardScaler().fit_transform(data)\n",
    "    kmeans = KMeans(n_clusters=n_clusters, random_state=42)\n",
    "    df['cluster'] = kmeans.fit_predict(data)\n",
    "    return df\n",
    "\n",
    "def visualize_clusters(df):\n",
    "    sns.boxplot(x='cluster', y='event_interval', data=df)\n",
    "    plt.title('Clustering of Event Intervals')\n",
    "    plt.show()\n",
    "\n",
    "def sessa_empirical_estimator(df, atc_code):\n",
    "    df = preprocess_data(df, atc_code)\n",
    "    plot_ecdf(df)\n",
    "    n_clusters = determine_clusters(df)\n",
    "    df = kmeans_clustering(df, n_clusters)\n",
    "    visualize_clusters(df)\n",
    "    return df\n",
    "# Example usage (data needs to be loaded first)\n",
    "# df = pd.read_csv(\"your_data.csv\")\n",
    "# df['eksd'] = pd.to_datetime(df['eksd'])\n",
    "# result = sessa_empirical_estimator(df, \"medA\")\n"
   ]
  },
  {
   "cell_type": "markdown",
   "metadata": {},
   "source": [
    "## Step 1: Simulate Medication Data\n",
    "We simulate patient medication data using the `simulate_med_data` function. The dataset includes patient IDs, dates, doses, and drug types."
   ]
  },
  {
   "cell_type": "code",
   "execution_count": 1,
   "metadata": {},
   "outputs": [],
   "source": [
    "# Import modules\n",
    "from data_simulation import load_med_events\n",
    "from metrics import calculate_adherence\n",
    "from clustering import cluster_kmeans, cluster_dbscan\n",
    "from analysis import compare_clusters\n",
    "import pandas as pd\n",
    "import numpy as np\n",
    "import matplotlib.pyplot as plt"
   ]
  },
  {
   "cell_type": "code",
   "execution_count": 2,
   "metadata": {},
   "outputs": [
    {
     "name": "stdout",
     "output_type": "stream",
     "text": [
      "Med.Events Data Sample:\n",
      "   PATIENT_ID       DATE  PERDAY CATEGORY  DURATION\n",
      "0           1 2033-04-26       4     medA        50\n",
      "1           1 2033-07-04       4     medB        30\n",
      "2           1 2033-08-03       4     medB        30\n",
      "3           1 2033-08-17       4     medB        30\n",
      "4           1 2033-10-13       4     medB        30\n",
      "PATIENT_ID             int64\n",
      "DATE          datetime64[ns]\n",
      "PERDAY                 int64\n",
      "CATEGORY              object\n",
      "DURATION               int64\n",
      "dtype: object\n"
     ]
    }
   ],
   "source": [
    "# Load the med.events dataset\n",
    "raw_df = pd.read_csv(\"med_events.csv\")\n",
    "\n",
    "# Convert DATE column to datetime\n",
    "raw_df['DATE'] = pd.to_datetime(raw_df['DATE'], format='%m/%d/%Y')\n",
    "\n",
    "print(\"Med.Events Data Sample:\")\n",
    "print(raw_df.head())\n",
    "print(raw_df.dtypes)"
   ]
  },
  {
   "cell_type": "markdown",
   "metadata": {},
   "source": [
    "## Step 2: Calculate Adherence Metrics\n",
    "We calculate adherence metrics such as total doses, average gap between doses, and regimen complexity for each patient."
   ]
  },
  {
   "cell_type": "code",
   "execution_count": 3,
   "metadata": {},
   "outputs": [
    {
     "name": "stdout",
     "output_type": "stream",
     "text": [
      "\n",
      "Adherence Metrics:\n",
      "   index  total_doses     avg_gap  regimen_complexity\n",
      "0      1         24.0   30.608696                 2.0\n",
      "1      2          8.0   67.714286                 2.0\n",
      "2      3         28.0   26.259259                 2.0\n",
      "3      4          6.0  140.600000                 2.0\n",
      "4      5          8.0   68.571429                 2.0\n"
     ]
    }
   ],
   "source": [
    "# Calculate adherence metrics\n",
    "adherence_df = calculate_adherence(raw_df)\n",
    "print(\"\\nAdherence Metrics:\")\n",
    "print(adherence_df.head())"
   ]
  },
  {
   "cell_type": "markdown",
   "metadata": {},
   "source": [
    "## Step 3: Perform Sessa Empircal Estimator with K-Means Clustering Algorithm on Medication Adherence Analysis\n",
    "We apply K-Means clustering to the adherence metrics to identify patterns in patient behavior."
   ]
  },
  {
   "cell_type": "code",
   "execution_count": 4,
   "metadata": {},
   "outputs": [],
   "source": [
    "# Perform clustering\n",
    "kmeans_results = cluster_kmeans(adherence_df[['avg_gap', 'total_doses']])"
   ]
  },
  {
   "cell_type": "markdown",
   "metadata": {},
   "source": [
    "### Insights"
   ]
  },
  {
   "cell_type": "markdown",
   "metadata": {},
   "source": [
    "Insights here"
   ]
  },
  {
   "cell_type": "markdown",
   "metadata": {},
   "source": [
    "## Step 4: Substitute Sessa Empircal Estimator with DBSCAN Clustering Algorithms on Medication Adherence Analysis\n",
    "We apply DBSCAN clustering to the adherence metrics to identify patterns in patient behavior."
   ]
  },
  {
   "cell_type": "code",
   "execution_count": 5,
   "metadata": {},
   "outputs": [],
   "source": [
    "# Perform clustering\n",
    "dbscan_results = cluster_dbscan(adherence_df[['avg_gap', 'total_doses']])"
   ]
  },
  {
   "cell_type": "markdown",
   "metadata": {},
   "source": [
    "### Insights"
   ]
  },
  {
   "cell_type": "markdown",
   "metadata": {},
   "source": [
    "Insights here"
   ]
  },
  {
   "cell_type": "markdown",
   "metadata": {},
   "source": [
    "## Step 5: Compare Between Sessa Empirical Estimator using K-Means, and Sessa Empirical Estimator using DBSCAN\n",
    "We compare the clustering results from K-Means and DBSCAN and generate insights about patient adherence patterns."
   ]
  },
  {
   "cell_type": "code",
   "execution_count": 6,
   "metadata": {},
   "outputs": [
    {
     "data": {
      "image/png": "[encoded data removed]",
      "text/plain": [
       "<Figure size 1200x500 with 4 Axes>"
      ]
     },
     "metadata": {},
     "output_type": "display_data"
    },
    {
     "name": "stdout",
     "output_type": "stream",
     "text": [
      "K-Means Cluster Stats:\n",
      "        avg_gap                                                        \\\n",
      "          count        mean        std         min         25%    50%   \n",
      "cluster                                                                 \n",
      "0          58.0   74.775625  15.160275   45.181818   65.709091   71.1   \n",
      "1          16.0   36.852453   5.991315   26.259259   32.193452   37.0   \n",
      "2          26.0  146.682051  31.187578  109.500000  124.950000  141.2   \n",
      "\n",
      "                                total_doses                                   \\\n",
      "                75%         max       count       mean       std   min   25%   \n",
      "cluster                                                                        \n",
      "0         84.205357  105.857143        58.0  10.327586  2.046717   6.0   9.0   \n",
      "1         41.455882   46.866667        16.0  20.750000  3.415650  16.0  18.0   \n",
      "2        155.625000  242.333333        26.0   5.730769  1.079173   3.0   5.0   \n",
      "\n",
      "                            \n",
      "          50%    75%   max  \n",
      "cluster                     \n",
      "0        10.5  11.00  14.0  \n",
      "1        20.0  23.25  28.0  \n",
      "2         6.0   6.00   7.0  \n",
      "\n",
      "DBSCAN Cluster Stats:\n",
      "        avg_gap                                                             \\\n",
      "          count        mean         std        min         25%         50%   \n",
      "cluster                                                                      \n",
      "-1          3.0  163.530864  119.314631  26.259259  124.129630  222.000000   \n",
      " 0         97.0   85.049136   37.229280  30.608696   59.818182   75.555556   \n",
      "\n",
      "                                total_doses                                  \\\n",
      "                75%         max       count       mean        std  min  25%   \n",
      "cluster                                                                       \n",
      "-1       232.166667  242.333333         3.0  12.000000  13.856406  4.0  4.0   \n",
      " 0       105.857143  184.000000        97.0  10.762887   4.915480  3.0  7.0   \n",
      "\n",
      "                           \n",
      "          50%   75%   max  \n",
      "cluster                    \n",
      "-1        4.0  16.0  28.0  \n",
      " 0       10.0  12.0  25.0  \n"
     ]
    }
   ],
   "source": [
    "# Compare results\n",
    "compare_clusters(kmeans_results, dbscan_results)"
   ]
  },
  {
   "cell_type": "markdown",
   "metadata": {},
   "source": [
    "text maybe?"
   ]
  }
 ],
 "metadata": {
  "kernelspec": {
   "display_name": "Python 3",
   "language": "python",
   "name": "python3"
  },
  "language_info": {
   "codemirror_mode": {
    "name": "ipython",
    "version": 3
   },
   "file_extension": ".py",
   "mimetype": "text/x-python",
   "name": "python",
   "nbconvert_exporter": "python",
   "pygments_lexer": "ipython3",
   "version": "3.12.6"
  }
 },
 "nbformat": 4,
 "nbformat_minor": 2
}
